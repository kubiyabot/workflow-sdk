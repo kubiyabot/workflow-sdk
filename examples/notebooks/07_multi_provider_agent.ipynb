{
 "cells": [
  {
   "cell_type": "markdown",
   "metadata": {},
   "source": [
    "# Multi-Provider Agent Example\n",
    "\n",
    "Run an agent server that dispatches to multiple providers."
   ]
  },
  {
   "cell_type": "code",
   "metadata": {},
   "execution_count": null,
   "outputs": [],
   "source": [
    "from kubiya_workflow_sdk.server import create_server\n",
    "from kubiya_workflow_sdk.providers.adk import OpenAIAgentProvider, LocalAgentProvider\n",
    "\n",
    "server = create_server(title='Multi-Provider', providers={'openai': OpenAIAgentProvider(api_key='sk-...'), 'local': LocalAgentProvider()})"
   ]
  },
  {
   "cell_type": "code",
   "metadata": {},
   "execution_count": null,
   "outputs": [],
   "source": [
    "server.run(port=8080)"
   ]
  }
 ],
 "metadata": {},
 "nbformat": 4,
 "nbformat_minor": 5
}
