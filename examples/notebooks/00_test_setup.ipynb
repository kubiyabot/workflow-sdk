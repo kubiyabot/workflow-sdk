{
  "cells": [
    {
      "cell_type": "code",
      "execution_count": null,
      "metadata": {
        "vscode": {
          "languageId": "plaintext"
        }
      },
      "outputs": [],
      "source": [
        "# SDK Test Setup Notebook\n",
        "\n",
        "This notebook tests the SDK installation and sets up a test environment.\n"
      ]
    },
    {
      "cell_type": "code",
      "execution_count": null,
      "metadata": {},
      "outputs": [],
      "source": [
        "import os\n",
        "import sys\n",
        "from kubiya_workflow_sdk import KubiyaClient, workflow, execute_workflow\n",
        "\n",
        "# Test 1: Check Python version\n",
        "python_version = sys.version_info\n",
        "print(f\"✅ Python version: {python_version.major}.{python_version.minor}.{python_version.micro}\")\n",
        "if python_version < (3, 8):\n",
        "    print(\"⚠️  Warning: Python 3.8+ is recommended\")\n",
        "\n",
        "# Test 2: Check SDK installation\n",
        "try:\n",
        "    from kubiya_workflow_sdk import __version__\n",
        "    print(f\"✅ Kubiya SDK version: {__version__}\")\n",
        "except ImportError:\n",
        "    print(\"❌ SDK not properly installed\")\n",
        "    print(\"   Run: pip install kubiya-workflow-sdk\")\n",
        "    \n",
        "# Test 3: Check API key\n",
        "api_key = os.getenv(\"KUBIYA_API_KEY\")\n",
        "if not api_key:\n",
        "    print(\"❌ KUBIYA_API_KEY not set\")\n",
        "    print(\"   Set it with: export KUBIYA_API_KEY='your-api-key'\")\n",
        "    print(\"   Get your key from: https://app.kubiya.ai/settings/api-keys\")\n",
        "else:\n",
        "    print(f\"✅ API key configured (length: {len(api_key)})\")\n",
        "    \n",
        "# Test 4: Test API connection\n",
        "if api_key:\n",
        "    print(\"\\n🔍 Testing API connection...\")\n",
        "    try:\n",
        "        # Create a simple test workflow\n",
        "        test_wf = workflow(\"sdk-test\").step(\"test\", \"echo 'SDK test successful!'\")\n",
        "        \n",
        "        # Try to execute it\n",
        "        events = []\n",
        "        for event in execute_workflow(\n",
        "            workflow_definition=test_wf.to_dict(),\n",
        "            api_key=api_key,\n",
        "            stream=True\n",
        "        ):\n",
        "            events.append(event)\n",
        "            \n",
        "        if events:\n",
        "            print(\"✅ API connection successful!\")\n",
        "            print(f\"   Received {len(events)} events\")\n",
        "        else:\n",
        "            print(\"⚠️  No events received from API\")\n",
        "            \n",
        "    except Exception as e:\n",
        "        print(f\"❌ API connection failed: {str(e)}\")\n",
        "        print(\"   Please check your API key and network connection\")\n",
        "        \n",
        "print(\"\\n📋 Setup Summary:\")\n",
        "print(f\"   Python: {'✅' if python_version >= (3, 8) else '⚠️'}\")\n",
        "print(f\"   SDK: {'✅' if '__version__' in locals() else '❌'}\")\n",
        "print(f\"   API Key: {'✅' if api_key else '❌'}\")\n",
        "print(f\"   API Connection: {'✅' if api_key and 'events' in locals() and events else '❌'}\")\n"
      ]
    },
    {
      "cell_type": "code",
      "execution_count": null,
      "metadata": {
        "vscode": {
          "languageId": "plaintext"
        }
      },
      "outputs": [],
      "source": [
        "# SDK Test Setup\n",
        "\n",
        "This notebook tests the SDK installation and sets up a test environment.\n"
      ]
    },
    {
      "cell_type": "markdown",
      "metadata": {},
      "source": [
        "# AI Workflow Generation with ADK Provider\n",
        "\n",
        "This notebook demonstrates how to use AI providers to automatically generate workflows from natural language descriptions. The ADK (Agent Development Kit) provider supports multiple LLM backends and can generate complex, production-ready workflows.\n",
        "\n",
        "## Features Covered\n",
        "\n",
        "- Setting up the ADK provider with different LLM backends (OpenAI, Anthropic, Google)\n",
        "- Generating workflows from natural language descriptions\n",
        "- Validating and refining generated workflows\n",
        "- Compiling workflows for execution\n",
        "- Advanced use cases with custom tools and multi-step workflows\n",
        "\n",
        "## Prerequisites\n",
        "\n",
        "1. Install the SDK with ADK support: `pip install kubiya-workflow-sdk[adk]`\n",
        "2. Set your API keys:\n",
        "   - `export KUBIYA_API_KEY=\"your-kubiya-key\"`\n",
        "   - `export OPENAI_API_KEY=\"your-openai-key\"` (or other LLM provider keys)"
      ]
    }
  ],
  "metadata": {
    "language_info": {
      "name": "python"
    }
  },
  "nbformat": 4,
  "nbformat_minor": 2
}
