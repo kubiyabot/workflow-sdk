{
 "cells": [
  {
   "cell_type": "markdown",
   "metadata": {},
   "source": [
    "# SDK End-to-End Example\n",
    "\n",
    "Create a workflow, register it and execute it using the client."
   ]
  },
  {
   "cell_type": "code",
   "metadata": {},
   "execution_count": null,
   "outputs": [],
   "source": [
    "from kubiya_workflow_sdk import KubiyaClient, workflow\n",
    "\n",
    "hello_wf = workflow(\"hello\").step(\"say_hi\", \"echo hi\")\n",
    "client = KubiyaClient(api_key='your-api-key')"
   ]
  },
  {
   "cell_type": "code",
   "metadata": {},
   "execution_count": null,
   "outputs": [],
   "source": [
    "for event in client.execute_workflow(hello_wf.to_dict(), stream=True):\n",
    "    print(event)"
   ]
  }
 ],
 "metadata": {},
 "nbformat": 4,
 "nbformat_minor": 5
}
