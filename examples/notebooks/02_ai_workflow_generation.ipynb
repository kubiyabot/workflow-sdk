{
 "cells": [
  {
   "cell_type": "markdown",
   "metadata": {},
   "source": [
    "# AI Workflow Generation\n",
    "\n",
    "Generate workflows automatically using an AI provider."
   ]
  },
  {
   "cell_type": "code",
   "metadata": {},
   "execution_count": null,
   "outputs": [],
   "source": [
    "from kubiya_workflow_sdk.providers.adk import OpenAIAgentProvider\n",
    "\n",
    "provider = OpenAIAgentProvider(api_key='sk-...')\n",
    "workflow_def = provider.generate_workflow('Write a hello world program')"
   ]
  },
  {
   "cell_type": "code",
   "metadata": {},
   "execution_count": null,
   "outputs": [],
   "source": [
    "print(workflow_def)"
   ]
  }
 ],
 "metadata": {},
 "nbformat": 4,
 "nbformat_minor": 5
}
