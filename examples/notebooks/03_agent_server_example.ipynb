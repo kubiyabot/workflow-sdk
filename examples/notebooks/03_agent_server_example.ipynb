{
 "cells": [
  {
   "cell_type": "markdown",
   "metadata": {},
   "source": [
    "# Agent Server Example\n",
    "\n",
    "Create a simple agent server that exposes actions as REST APIs."
   ]
  },
  {
   "cell_type": "code",
   "metadata": {},
   "execution_count": null,
   "outputs": [],
   "source": [
    "from kubiya_workflow_sdk.server import create_server\n",
    "from kubiya_workflow_sdk.providers.adk import OpenAIAgentProvider\n",
    "\n",
    "server = create_server(title='Agent Server', providers={'openai': OpenAIAgentProvider(api_key='sk-...')})"
   ]
  },
  {
   "cell_type": "code",
   "metadata": {},
   "execution_count": null,
   "outputs": [],
   "source": [
    "server.run(port=8080)"
   ]
  }
 ],
 "metadata": {},
 "nbformat": 4,
 "nbformat_minor": 5
}
